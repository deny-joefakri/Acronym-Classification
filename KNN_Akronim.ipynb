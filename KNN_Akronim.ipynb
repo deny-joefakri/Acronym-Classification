{
  "nbformat": 4,
  "nbformat_minor": 0,
  "metadata": {
    "colab": {
      "provenance": [],
      "authorship_tag": "ABX9TyN6tg8XFa1QFyFuXw3Sncj9",
      "include_colab_link": true
    },
    "kernelspec": {
      "name": "python3",
      "display_name": "Python 3"
    },
    "language_info": {
      "name": "python"
    }
  },
  "cells": [
    {
      "cell_type": "markdown",
      "metadata": {
        "id": "view-in-github",
        "colab_type": "text"
      },
      "source": [
        "<a href=\"https://colab.research.google.com/github/deny-joefakri/Acronym-Classification/blob/main/KNN_Akronim.ipynb\" target=\"_parent\"><img src=\"https://colab.research.google.com/assets/colab-badge.svg\" alt=\"Open In Colab\"/></a>"
      ]
    },
    {
      "cell_type": "code",
      "execution_count": null,
      "metadata": {
        "id": "bK_t1qLsUF5i"
      },
      "outputs": [],
      "source": [
        "import numpy as np\n",
        "import pandas as pd\n",
        "import matplotlib.pyplot as plt"
      ]
    },
    {
      "cell_type": "code",
      "source": [
        "from google.colab import drive  \n",
        "drive.mount('/content/drive')  \n",
        "\n",
        "train_dir = '/content/drive/MyDrive/Colab Notebooks/Dataset/Akronim/training.csv'\n",
        "\n",
        "test_dir = '/content/drive/MyDrive/Colab Notebooks/Dataset/Akronim/testing.csv'\n",
        "\n"
      ],
      "metadata": {
        "colab": {
          "base_uri": "https://localhost:8080/"
        },
        "id": "NC50TKv3UJZU",
        "outputId": "cca8f064-ffdb-414b-b4a9-6de64696ad3a"
      },
      "execution_count": null,
      "outputs": [
        {
          "output_type": "stream",
          "name": "stdout",
          "text": [
            "Mounted at /content/drive\n"
          ]
        }
      ]
    },
    {
      "cell_type": "code",
      "source": [
        "data_train = pd.read_csv(train_dir)\n",
        "data_test = pd.read_csv(test_dir)\n",
        "# data_train.head()"
      ],
      "metadata": {
        "id": "uATogl00UK4T"
      },
      "execution_count": null,
      "outputs": []
    },
    {
      "cell_type": "code",
      "source": [
        "X_train = data_train.drop(['acronym','class'], axis=1)\n",
        "y_train = data_train['class']\n",
        "\n",
        "X_test = data_test.drop(['acronym','class'], axis=1)\n",
        "y_test = data_test['class']"
      ],
      "metadata": {
        "id": "Ys-giFV1UNp5"
      },
      "execution_count": null,
      "outputs": []
    },
    {
      "cell_type": "code",
      "source": [
        "from sklearn.neighbors import KNeighborsClassifier\n",
        "\n",
        "model = KNeighborsClassifier(n_neighbors=11)\n",
        "\n",
        "model.fit(X_train, y_train)\n",
        "\n",
        "# predicted = model.predict(X_test)\n",
        "# print(predicted)"
      ],
      "metadata": {
        "colab": {
          "base_uri": "https://localhost:8080/"
        },
        "id": "wtwZC3vBUQgO",
        "outputId": "08920094-4437-4cd6-ab69-ddb43e3ae797"
      },
      "execution_count": null,
      "outputs": [
        {
          "output_type": "execute_result",
          "data": {
            "text/plain": [
              "KNeighborsClassifier(n_neighbors=11)"
            ]
          },
          "metadata": {},
          "execution_count": 5
        }
      ]
    },
    {
      "cell_type": "code",
      "source": [
        "from sklearn.metrics import classification_report, confusion_matrix, ConfusionMatrixDisplay\n",
        "\n",
        "y_pred_train = model.predict(X_train)\n",
        "\n",
        "cm = confusion_matrix(y_train, y_pred_train)\n",
        "disp = ConfusionMatrixDisplay(confusion_matrix=cm)\n",
        "disp.plot()\n",
        "plt.show()\n",
        "\n",
        "print(classification_report(y_train, y_pred_train))"
      ],
      "metadata": {
        "colab": {
          "base_uri": "https://localhost:8080/",
          "height": 435
        },
        "id": "N3NTu86nUriy",
        "outputId": "bb844a88-9981-43b8-f4c9-b0e878eff9b4"
      },
      "execution_count": null,
      "outputs": [
        {
          "output_type": "display_data",
          "data": {
            "text/plain": [
              "<Figure size 432x288 with 2 Axes>"
            ],
            "image/png": "[encoded data removed]"
          },
          "metadata": {
            "needs_background": "light"
          }
        },
        {
          "output_type": "stream",
          "name": "stdout",
          "text": [
            "              precision    recall  f1-score   support\n",
            "\n",
            "          -1       0.99      0.98      0.98      2000\n",
            "           1       0.98      0.99      0.98      2000\n",
            "\n",
            "    accuracy                           0.98      4000\n",
            "   macro avg       0.98      0.98      0.98      4000\n",
            "weighted avg       0.98      0.98      0.98      4000\n",
            "\n"
          ]
        }
      ]
    },
    {
      "cell_type": "code",
      "source": [
        "from sklearn.metrics import classification_report, confusion_matrix, ConfusionMatrixDisplay\n",
        "\n",
        "y_pred_test = model.predict(X_test)\n",
        "\n",
        "cm = confusion_matrix(y_test, y_pred_test)\n",
        "disp = ConfusionMatrixDisplay(confusion_matrix=cm)\n",
        "disp.plot()\n",
        "plt.show()\n",
        "\n",
        "print(classification_report(y_test, y_pred_test))"
      ],
      "metadata": {
        "colab": {
          "base_uri": "https://localhost:8080/",
          "height": 435
        },
        "id": "DApT_akIhTVk",
        "outputId": "599c0b9e-2f3f-4a1f-e208-a6fe0e0dc23c"
      },
      "execution_count": null,
      "outputs": [
        {
          "output_type": "display_data",
          "data": {
            "text/plain": [
              "<Figure size 432x288 with 2 Axes>"
            ],
            "image/png": "[encoded data removed]"
          },
          "metadata": {
            "needs_background": "light"
          }
        },
        {
          "output_type": "stream",
          "name": "stdout",
          "text": [
            "              precision    recall  f1-score   support\n",
            "\n",
            "          -1       0.93      0.99      0.96       500\n",
            "           1       0.99      0.94      0.96       600\n",
            "\n",
            "    accuracy                           0.96      1100\n",
            "   macro avg       0.96      0.96      0.96      1100\n",
            "weighted avg       0.96      0.96      0.96      1100\n",
            "\n"
          ]
        }
      ]
    }
  ]
}