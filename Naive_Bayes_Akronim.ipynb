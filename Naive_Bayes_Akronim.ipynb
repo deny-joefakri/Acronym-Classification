{
  "nbformat": 4,
  "nbformat_minor": 0,
  "metadata": {
    "colab": {
      "provenance": [],
      "authorship_tag": "ABX9TyN4F5G+M9SAnPeSJ+Dp7WYj",
      "include_colab_link": true
    },
    "kernelspec": {
      "name": "python3",
      "display_name": "Python 3"
    },
    "language_info": {
      "name": "python"
    }
  },
  "cells": [
    {
      "cell_type": "markdown",
      "metadata": {
        "id": "view-in-github",
        "colab_type": "text"
      },
      "source": [
        "<a href=\"https://colab.research.google.com/github/deny-joefakri/Acronym-Classification/blob/main/Naive_Bayes_Akronim.ipynb\" target=\"_parent\"><img src=\"https://colab.research.google.com/assets/colab-badge.svg\" alt=\"Open In Colab\"/></a>"
      ]
    },
    {
      "cell_type": "code",
      "execution_count": null,
      "metadata": {
        "id": "JZZoDmMcTQZh"
      },
      "outputs": [],
      "source": [
        "import numpy as np\n",
        "import pandas as pd\n",
        "import matplotlib.pyplot as plt"
      ]
    },
    {
      "cell_type": "code",
      "source": [
        "from google.colab import drive  \n",
        "drive.mount('/content/drive')  \n",
        "\n",
        "train_dir = '/content/drive/MyDrive/Colab Notebooks/Dataset/Akronim/training.csv'\n",
        "\n",
        "test_dir = '/content/drive/MyDrive/Colab Notebooks/Dataset/Akronim/testing.csv'\n",
        "\n"
      ],
      "metadata": {
        "colab": {
          "base_uri": "https://localhost:8080/"
        },
        "id": "NzDGipCDTVWM",
        "outputId": "aaf43428-b6c5-4f07-e4db-aaaae5570592"
      },
      "execution_count": null,
      "outputs": [
        {
          "output_type": "stream",
          "name": "stdout",
          "text": [
            "Mounted at /content/drive\n"
          ]
        }
      ]
    },
    {
      "cell_type": "code",
      "source": [
        "data_train = pd.read_csv(train_dir)\n",
        "data_test = pd.read_csv(test_dir)\n",
        "# data_train.head()"
      ],
      "metadata": {
        "id": "Hr2cY0dcTW2C"
      },
      "execution_count": null,
      "outputs": []
    },
    {
      "cell_type": "code",
      "source": [
        "X_train = data_train.drop(['acronym','class'], axis=1)\n",
        "y_train = data_train['class']\n",
        "\n",
        "X_test = data_test.drop(['acronym','class'], axis=1)\n",
        "y_test = data_test['class']"
      ],
      "metadata": {
        "id": "_MlOp-TATYU7"
      },
      "execution_count": null,
      "outputs": []
    },
    {
      "cell_type": "code",
      "source": [
        "from sklearn.naive_bayes import GaussianNB  \n",
        "classifier = GaussianNB()  \n",
        "classifier.fit(X_train, y_train)  "
      ],
      "metadata": {
        "colab": {
          "base_uri": "https://localhost:8080/"
        },
        "id": "W35NbXvHTbZV",
        "outputId": "ce8da91a-f0c1-4fff-d251-bc066dc72c4a"
      },
      "execution_count": null,
      "outputs": [
        {
          "output_type": "execute_result",
          "data": {
            "text/plain": [
              "GaussianNB()"
            ]
          },
          "metadata": {},
          "execution_count": 5
        }
      ]
    },
    {
      "cell_type": "code",
      "source": [
        "from sklearn.metrics import classification_report, confusion_matrix, ConfusionMatrixDisplay\n",
        "\n",
        "y_pred_testing = classifier.predict(X_test)\n",
        "\n",
        "cm = confusion_matrix(y_test, y_pred_testing)\n",
        "disp = ConfusionMatrixDisplay(confusion_matrix=cm)\n",
        "disp.plot()\n",
        "plt.show()\n",
        "\n",
        "print(classification_report(y_test,y_pred_testing))"
      ],
      "metadata": {
        "colab": {
          "base_uri": "https://localhost:8080/",
          "height": 571
        },
        "id": "y1ICseUdTfsT",
        "outputId": "5581c0f8-98cc-41ef-a99e-37a2f2cef33d"
      },
      "execution_count": null,
      "outputs": [
        {
          "output_type": "display_data",
          "data": {
            "text/plain": [
              "<Figure size 432x288 with 2 Axes>"
            ],
            "image/png": "[encoded data removed]"
          },
          "metadata": {
            "needs_background": "light"
          }
        },
        {
          "output_type": "stream",
          "name": "stdout",
          "text": [
            "              precision    recall  f1-score   support\n",
            "\n",
            "          -1       0.00      0.00      0.00       500\n",
            "           1       0.55      1.00      0.71       600\n",
            "\n",
            "    accuracy                           0.55      1100\n",
            "   macro avg       0.27      0.50      0.35      1100\n",
            "weighted avg       0.30      0.55      0.39      1100\n",
            "\n"
          ]
        },
        {
          "output_type": "stream",
          "name": "stderr",
          "text": [
            "/usr/local/lib/python3.8/dist-packages/sklearn/metrics/_classification.py:1318: UndefinedMetricWarning: Precision and F-score are ill-defined and being set to 0.0 in labels with no predicted samples. Use `zero_division` parameter to control this behavior.\n",
            "  _warn_prf(average, modifier, msg_start, len(result))\n",
            "/usr/local/lib/python3.8/dist-packages/sklearn/metrics/_classification.py:1318: UndefinedMetricWarning: Precision and F-score are ill-defined and being set to 0.0 in labels with no predicted samples. Use `zero_division` parameter to control this behavior.\n",
            "  _warn_prf(average, modifier, msg_start, len(result))\n",
            "/usr/local/lib/python3.8/dist-packages/sklearn/metrics/_classification.py:1318: UndefinedMetricWarning: Precision and F-score are ill-defined and being set to 0.0 in labels with no predicted samples. Use `zero_division` parameter to control this behavior.\n",
            "  _warn_prf(average, modifier, msg_start, len(result))\n"
          ]
        }
      ]
    },
    {
      "cell_type": "code",
      "source": [
        "from sklearn.metrics import classification_report, confusion_matrix, ConfusionMatrixDisplay\n",
        "\n",
        "y_pred_train = classifier.predict(X_train)\n",
        "\n",
        "cm = confusion_matrix(y_train, y_pred_train)\n",
        "disp = ConfusionMatrixDisplay(confusion_matrix=cm)\n",
        "disp.plot()\n",
        "plt.show()\n",
        "\n",
        "print(classification_report(y_train, y_pred_train))"
      ],
      "metadata": {
        "colab": {
          "base_uri": "https://localhost:8080/",
          "height": 444
        },
        "id": "QgcVg_f-T2Oe",
        "outputId": "4e6e5db8-0efa-4033-815f-75f7e7ed95d4"
      },
      "execution_count": null,
      "outputs": [
        {
          "output_type": "display_data",
          "data": {
            "text/plain": [
              "<Figure size 432x288 with 2 Axes>"
            ],
            "image/png": "[encoded data removed]"
          },
          "metadata": {
            "needs_background": "light"
          }
        },
        {
          "output_type": "stream",
          "name": "stdout",
          "text": [
            "              precision    recall  f1-score   support\n",
            "\n",
            "          -1       1.00      0.18      0.31      2000\n",
            "           1       0.55      1.00      0.71      2000\n",
            "\n",
            "    accuracy                           0.59      4000\n",
            "   macro avg       0.77      0.59      0.51      4000\n",
            "weighted avg       0.77      0.59      0.51      4000\n",
            "\n"
          ]
        }
      ]
    }
  ]
}