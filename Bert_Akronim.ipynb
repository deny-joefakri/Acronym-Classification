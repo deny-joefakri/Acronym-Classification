{
  "nbformat": 4,
  "nbformat_minor": 0,
  "metadata": {
    "colab": {
      "provenance": [],
      "authorship_tag": "ABX9TyOSWdaKETmtrZjI2mGwS+Sb",
      "include_colab_link": true
    },
    "kernelspec": {
      "name": "python3",
      "display_name": "Python 3"
    },
    "language_info": {
      "name": "python"
    },
    "accelerator": "GPU",
    "gpuClass": "standard"
  },
  "cells": [
    {
      "cell_type": "markdown",
      "metadata": {
        "id": "view-in-github",
        "colab_type": "text"
      },
      "source": [
        "<a href=\"https://colab.research.google.com/github/deny-joefakri/Acronym-Classification/blob/main/Bert_Akronim.ipynb\" target=\"_parent\"><img src=\"https://colab.research.google.com/assets/colab-badge.svg\" alt=\"Open In Colab\"/></a>"
      ]
    },
    {
      "cell_type": "code",
      "execution_count": 1,
      "metadata": {
        "id": "INN6AG07XRiu"
      },
      "outputs": [],
      "source": [
        "import numpy as np\n",
        "import pandas as pd\n",
        "import matplotlib.pyplot as plt"
      ]
    },
    {
      "cell_type": "code",
      "source": [
        "from google.colab import drive  \n",
        "drive.mount('/content/drive', force_remount=True)  \n",
        "\n",
        "train_dir = '/content/drive/MyDrive/Colab Notebooks/Dataset/Akronim/training.csv'\n",
        "train_dir_update = '/content/drive/MyDrive/Colab Notebooks/Dataset/Akronim/training_changes.csv'\n",
        "\n",
        "test_dir = '/content/drive/MyDrive/Colab Notebooks/Dataset/Akronim/testing.csv'\n",
        "test_dir_update = '/content/drive/MyDrive/Colab Notebooks/Dataset/Akronim/testing_changes.csv'\n",
        "\n"
      ],
      "metadata": {
        "colab": {
          "base_uri": "https://localhost:8080/"
        },
        "id": "MNOKFxyxXY9V",
        "outputId": "44d042d8-b446-45e3-ff4b-034ed48a7d79"
      },
      "execution_count": 2,
      "outputs": [
        {
          "output_type": "stream",
          "name": "stdout",
          "text": [
            "Mounted at /content/drive\n"
          ]
        }
      ]
    },
    {
      "cell_type": "code",
      "source": [
        "data_train = pd.read_csv(train_dir_update)\n",
        "data_test = pd.read_csv(test_dir_update)\n",
        "data_train.head()"
      ],
      "metadata": {
        "id": "IMQI0JGTXalD",
        "colab": {
          "base_uri": "https://localhost:8080/",
          "height": 206
        },
        "outputId": "85e19ca4-d386-4706-86ae-1ae14c308f93"
      },
      "execution_count": 3,
      "outputs": [
        {
          "output_type": "execute_result",
          "data": {
            "text/plain": [
              "                            acronym        x1        x2    x3   x4    x5  \\\n",
              "0                 BUMD=>Usaha Milik  0.918296  1.000000 -0.67  0.0  1.00   \n",
              "1  TNI=>meminjam senjata dari oknum  1.000000  0.500000 -2.00  0.0  0.75   \n",
              "2             PKI=>Panitia Pengawas  0.970951  1.000000 -1.00  0.5  1.00   \n",
              "3              MA=>putusan Mahkamah  1.000000  0.750000 -2.00  0.0  1.00   \n",
              "4                 TI=>com Mati body  0.970951  0.666667 -2.50  0.0  1.00   \n",
              "\n",
              "         x6  x7        x8  class  \n",
              "0  0.500000   0  0.393090      0  \n",
              "1  0.000000   0  0.035714      0  \n",
              "2  0.333333   0  0.400612      0  \n",
              "3  1.000000   1  0.392857      0  \n",
              "4  0.000000   0  0.019660      0  "
            ],
            "text/html": [
              "\n",
              "  <div id=\"df-3c5345e3-77e2-47c2-9b0b-50e4b9f5e54d\">\n",
              "    <div class=\"colab-df-container\">\n",
              "      <div>\n",
              "<style scoped>\n",
              "    .dataframe tbody tr th:only-of-type {\n",
              "        vertical-align: middle;\n",
              "    }\n",
              "\n",
              "    .dataframe tbody tr th {\n",
              "        vertical-align: top;\n",
              "    }\n",
              "\n",
              "    .dataframe thead th {\n",
              "        text-align: right;\n",
              "    }\n",
              "</style>\n",
              "<table border=\"1\" class=\"dataframe\">\n",
              "  <thead>\n",
              "    <tr style=\"text-align: right;\">\n",
              "      <th></th>\n",
              "      <th>acronym</th>\n",
              "      <th>x1</th>\n",
              "      <th>x2</th>\n",
              "      <th>x3</th>\n",
              "      <th>x4</th>\n",
              "      <th>x5</th>\n",
              "      <th>x6</th>\n",
              "      <th>x7</th>\n",
              "      <th>x8</th>\n",
              "      <th>class</th>\n",
              "    </tr>\n",
              "  </thead>\n",
              "  <tbody>\n",
              "    <tr>\n",
              "      <th>0</th>\n",
              "      <td>BUMD=&gt;Usaha Milik</td>\n",
              "      <td>0.918296</td>\n",
              "      <td>1.000000</td>\n",
              "      <td>-0.67</td>\n",
              "      <td>0.0</td>\n",
              "      <td>1.00</td>\n",
              "      <td>0.500000</td>\n",
              "      <td>0</td>\n",
              "      <td>0.393090</td>\n",
              "      <td>0</td>\n",
              "    </tr>\n",
              "    <tr>\n",
              "      <th>1</th>\n",
              "      <td>TNI=&gt;meminjam senjata dari oknum</td>\n",
              "      <td>1.000000</td>\n",
              "      <td>0.500000</td>\n",
              "      <td>-2.00</td>\n",
              "      <td>0.0</td>\n",
              "      <td>0.75</td>\n",
              "      <td>0.000000</td>\n",
              "      <td>0</td>\n",
              "      <td>0.035714</td>\n",
              "      <td>0</td>\n",
              "    </tr>\n",
              "    <tr>\n",
              "      <th>2</th>\n",
              "      <td>PKI=&gt;Panitia Pengawas</td>\n",
              "      <td>0.970951</td>\n",
              "      <td>1.000000</td>\n",
              "      <td>-1.00</td>\n",
              "      <td>0.5</td>\n",
              "      <td>1.00</td>\n",
              "      <td>0.333333</td>\n",
              "      <td>0</td>\n",
              "      <td>0.400612</td>\n",
              "      <td>0</td>\n",
              "    </tr>\n",
              "    <tr>\n",
              "      <th>3</th>\n",
              "      <td>MA=&gt;putusan Mahkamah</td>\n",
              "      <td>1.000000</td>\n",
              "      <td>0.750000</td>\n",
              "      <td>-2.00</td>\n",
              "      <td>0.0</td>\n",
              "      <td>1.00</td>\n",
              "      <td>1.000000</td>\n",
              "      <td>1</td>\n",
              "      <td>0.392857</td>\n",
              "      <td>0</td>\n",
              "    </tr>\n",
              "    <tr>\n",
              "      <th>4</th>\n",
              "      <td>TI=&gt;com Mati body</td>\n",
              "      <td>0.970951</td>\n",
              "      <td>0.666667</td>\n",
              "      <td>-2.50</td>\n",
              "      <td>0.0</td>\n",
              "      <td>1.00</td>\n",
              "      <td>0.000000</td>\n",
              "      <td>0</td>\n",
              "      <td>0.019660</td>\n",
              "      <td>0</td>\n",
              "    </tr>\n",
              "  </tbody>\n",
              "</table>\n",
              "</div>\n",
              "      <button class=\"colab-df-convert\" onclick=\"convertToInteractive('df-3c5345e3-77e2-47c2-9b0b-50e4b9f5e54d')\"\n",
              "              title=\"Convert this dataframe to an interactive table.\"\n",
              "              style=\"display:none;\">\n",
              "        \n",
              "  <svg xmlns=\"http://www.w3.org/2000/svg\" height=\"24px\"viewBox=\"0 0 24 24\"\n",
              "       width=\"24px\">\n",
              "    <path d=\"M0 0h24v24H0V0z\" fill=\"none\"/>\n",
              "    <path d=\"M18.56 5.44l.94 2.06.94-2.06 2.06-.94-2.06-.94-.94-2.06-.94 2.06-2.06.94zm-11 1L8.5 8.5l.94-2.06 2.06-.94-2.06-.94L8.5 2.5l-.94 2.06-2.06.94zm10 10l.94 2.06.94-2.06 2.06-.94-2.06-.94-.94-2.06-.94 2.06-2.06.94z\"/><path d=\"M17.41 7.96l-1.37-1.37c-.4-.4-.92-.59-1.43-.59-.52 0-1.04.2-1.43.59L10.3 9.45l-7.72 7.72c-.78.78-.78 2.05 0 2.83L4 21.41c.39.39.9.59 1.41.59.51 0 1.02-.2 1.41-.59l7.78-7.78 2.81-2.81c.8-.78.8-2.07 0-2.86zM5.41 20L4 18.59l7.72-7.72 1.47 1.35L5.41 20z\"/>\n",
              "  </svg>\n",
              "      </button>\n",
              "      \n",
              "  <style>\n",
              "    .colab-df-container {\n",
              "      display:flex;\n",
              "      flex-wrap:wrap;\n",
              "      gap: 12px;\n",
              "    }\n",
              "\n",
              "    .colab-df-convert {\n",
              "      background-color: #E8F0FE;\n",
              "      border: none;\n",
              "      border-radius: 50%;\n",
              "      cursor: pointer;\n",
              "      display: none;\n",
              "      fill: #1967D2;\n",
              "      height: 32px;\n",
              "      padding: 0 0 0 0;\n",
              "      width: 32px;\n",
              "    }\n",
              "\n",
              "    .colab-df-convert:hover {\n",
              "      background-color: #E2EBFA;\n",
              "      box-shadow: 0px 1px 2px rgba(60, 64, 67, 0.3), 0px 1px 3px 1px rgba(60, 64, 67, 0.15);\n",
              "      fill: #174EA6;\n",
              "    }\n",
              "\n",
              "    [theme=dark] .colab-df-convert {\n",
              "      background-color: #3B4455;\n",
              "      fill: #D2E3FC;\n",
              "    }\n",
              "\n",
              "    [theme=dark] .colab-df-convert:hover {\n",
              "      background-color: #434B5C;\n",
              "      box-shadow: 0px 1px 3px 1px rgba(0, 0, 0, 0.15);\n",
              "      filter: drop-shadow(0px 1px 2px rgba(0, 0, 0, 0.3));\n",
              "      fill: #FFFFFF;\n",
              "    }\n",
              "  </style>\n",
              "\n",
              "      <script>\n",
              "        const buttonEl =\n",
              "          document.querySelector('#df-3c5345e3-77e2-47c2-9b0b-50e4b9f5e54d button.colab-df-convert');\n",
              "        buttonEl.style.display =\n",
              "          google.colab.kernel.accessAllowed ? 'block' : 'none';\n",
              "\n",
              "        async function convertToInteractive(key) {\n",
              "          const element = document.querySelector('#df-3c5345e3-77e2-47c2-9b0b-50e4b9f5e54d');\n",
              "          const dataTable =\n",
              "            await google.colab.kernel.invokeFunction('convertToInteractive',\n",
              "                                                     [key], {});\n",
              "          if (!dataTable) return;\n",
              "\n",
              "          const docLinkHtml = 'Like what you see? Visit the ' +\n",
              "            '<a target=\"_blank\" href=https://colab.research.google.com/notebooks/data_table.ipynb>data table notebook</a>'\n",
              "            + ' to learn more about interactive tables.';\n",
              "          element.innerHTML = '';\n",
              "          dataTable['output_type'] = 'display_data';\n",
              "          await google.colab.output.renderOutput(dataTable, element);\n",
              "          const docLink = document.createElement('div');\n",
              "          docLink.innerHTML = docLinkHtml;\n",
              "          element.appendChild(docLink);\n",
              "        }\n",
              "      </script>\n",
              "    </div>\n",
              "  </div>\n",
              "  "
            ]
          },
          "metadata": {},
          "execution_count": 3
        }
      ]
    },
    {
      "cell_type": "code",
      "source": [
        "X_train = data_train.drop(['x1', 'x2', 'x3', 'x4', 'x5', 'x6', 'x7', 'x8', 'class'], axis=1)\n",
        "y_train = data_train['class']\n",
        "\n",
        "X_test = data_test.drop(['x1', 'x2', 'x3', 'x4', 'x5', 'x6', 'x7', 'x8', 'class'], axis=1)\n",
        "y_test = data_test['class']\n",
        "\n",
        "print(X_train);\n",
        "print(X_test);"
      ],
      "metadata": {
        "id": "MFsDn-AQXdEe",
        "colab": {
          "base_uri": "https://localhost:8080/"
        },
        "outputId": "812a2ca4-3f30-43b2-ffc3-4ef2cd2e616c"
      },
      "execution_count": 4,
      "outputs": [
        {
          "output_type": "stream",
          "name": "stdout",
          "text": [
            "                                       acronym\n",
            "0                            BUMD=>Usaha Milik\n",
            "1             TNI=>meminjam senjata dari oknum\n",
            "2                        PKI=>Panitia Pengawas\n",
            "3                         MA=>putusan Mahkamah\n",
            "4                            TI=>com Mati body\n",
            "...                                        ...\n",
            "3995  YPII=>Yayasan Pemulihan Insani Indonesia\n",
            "3996                  KDG=>Kepala Dipo Gerbong\n",
            "3997                    Bendum=>Bendahara Umum\n",
            "3998                 UKM=>Usaha Kecil Menengah\n",
            "3999      KPCI=>Komite Peduli Calon Independen\n",
            "\n",
            "[4000 rows x 1 columns]\n",
            "                                     acronym\n",
            "0                              AB=>Air Brake\n",
            "1                             Abar=>Ab barat\n",
            "2                           BC=>Barang Cepat\n",
            "3                       BP=>Bagasi dan Power\n",
            "4                        BH=>Bangunan Hikmat\n",
            "...                                      ...\n",
            "1095              Bosowa=>bagi pemberantasan\n",
            "1096  YLBHI=>Kekerasan di Aceh Jelang Pemilu\n",
            "1097       Kalimantan=>Basyuni Menkom Info M\n",
            "1098          BNP=>lembaga keuangan bertaraf\n",
            "1099                    PDA=>Partai Gerindra\n",
            "\n",
            "[1100 rows x 1 columns]\n"
          ]
        }
      ]
    },
    {
      "cell_type": "code",
      "source": [
        "import tensorflow as tf\n",
        "import tensorflow_hub as hub\n"
      ],
      "metadata": {
        "id": "Hpe5TLUjg6-m"
      },
      "execution_count": 5,
      "outputs": []
    },
    {
      "cell_type": "code",
      "source": [
        "import tensorflow_text as text\n",
        "bert_preprocess = hub.KerasLayer(\"https://tfhub.dev/tensorflow/bert_multi_cased_preprocess/3\")\n",
        "bert_encoder = hub.KerasLayer(\"https://tfhub.dev/tensorflow/bert_multi_cased_L-12_H-768_A-12/4\")\n"
      ],
      "metadata": {
        "id": "H4vVQFdihOkv",
        "colab": {
          "base_uri": "https://localhost:8080/"
        },
        "outputId": "2cbaaae6-3c96-44c9-9fd5-50f1687cd14b"
      },
      "execution_count": 6,
      "outputs": [
        {
          "output_type": "stream",
          "name": "stderr",
          "text": [
            "WARNING:tensorflow:Please fix your imports. Module tensorflow.python.training.tracking.data_structures has been moved to tensorflow.python.trackable.data_structures. The old module will be deleted in version 2.11.\n"
          ]
        }
      ]
    },
    {
      "cell_type": "code",
      "source": [
        "# Bert layers\n",
        "text_input = tf.keras.layers.Input(shape=(), dtype=tf.string, name='text')\n",
        "preprocessed_text = bert_preprocess(text_input)\n",
        "outputs = bert_encoder(preprocessed_text)\n",
        "\n",
        "# Neural network layers\n",
        "l = tf.keras.layers.Dropout(0.1, name=\"dropout\")(outputs['pooled_output'])\n",
        "l = tf.keras.layers.Dense(1, activation='sigmoid', name=\"output\")(l)\n",
        "\n",
        "# Use inputs and outputs to construct a final model\n",
        "model = tf.keras.Model(inputs=[text_input], outputs = [l])\n",
        "\n",
        "model.summary()"
      ],
      "metadata": {
        "id": "SLX7x6hAhZYN",
        "colab": {
          "base_uri": "https://localhost:8080/"
        },
        "outputId": "f172b203-da55-4b5c-b18d-4a0c47f91c35"
      },
      "execution_count": 7,
      "outputs": [
        {
          "output_type": "stream",
          "name": "stderr",
          "text": [
            "WARNING:tensorflow:From /usr/local/lib/python3.8/dist-packages/tensorflow/python/autograph/pyct/static_analysis/liveness.py:83: Analyzer.lamba_check (from tensorflow.python.autograph.pyct.static_analysis.liveness) is deprecated and will be removed after 2023-09-23.\n",
            "Instructions for updating:\n",
            "Lambda fuctions will be no more assumed to be used in the statement where they are used, or at least in the same block. https://github.com/tensorflow/tensorflow/issues/56089\n"
          ]
        },
        {
          "output_type": "stream",
          "name": "stdout",
          "text": [
            "Model: \"model\"\n",
            "__________________________________________________________________________________________________\n",
            " Layer (type)                   Output Shape         Param #     Connected to                     \n",
            "==================================================================================================\n",
            " text (InputLayer)              [(None,)]            0           []                               \n",
            "                                                                                                  \n",
            " keras_layer (KerasLayer)       {'input_mask': (Non  0           ['text[0][0]']                   \n",
            "                                e, 128),                                                          \n",
            "                                 'input_word_ids':                                                \n",
            "                                (None, 128),                                                      \n",
            "                                 'input_type_ids':                                                \n",
            "                                (None, 128)}                                                      \n",
            "                                                                                                  \n",
            " keras_layer_1 (KerasLayer)     {'default': (None,   177853441   ['keras_layer[0][0]',            \n",
            "                                768),                             'keras_layer[0][1]',            \n",
            "                                 'sequence_output':               'keras_layer[0][2]']            \n",
            "                                 (None, 128, 768),                                                \n",
            "                                 'encoder_outputs':                                               \n",
            "                                 [(None, 128, 768),                                               \n",
            "                                 (None, 128, 768),                                                \n",
            "                                 (None, 128, 768),                                                \n",
            "                                 (None, 128, 768),                                                \n",
            "                                 (None, 128, 768),                                                \n",
            "                                 (None, 128, 768),                                                \n",
            "                                 (None, 128, 768),                                                \n",
            "                                 (None, 128, 768),                                                \n",
            "                                 (None, 128, 768),                                                \n",
            "                                 (None, 128, 768),                                                \n",
            "                                 (None, 128, 768),                                                \n",
            "                                 (None, 128, 768)],                                               \n",
            "                                 'pooled_output': (                                               \n",
            "                                None, 768)}                                                       \n",
            "                                                                                                  \n",
            " dropout (Dropout)              (None, 768)          0           ['keras_layer_1[0][13]']         \n",
            "                                                                                                  \n",
            " output (Dense)                 (None, 1)            769         ['dropout[0][0]']                \n",
            "                                                                                                  \n",
            "==================================================================================================\n",
            "Total params: 177,854,210\n",
            "Trainable params: 769\n",
            "Non-trainable params: 177,853,441\n",
            "__________________________________________________________________________________________________\n"
          ]
        }
      ]
    },
    {
      "cell_type": "code",
      "source": [
        "model.compile(optimizer='adam',\n",
        "              loss='binary_crossentropy',\n",
        "              metrics=['accuracy'])"
      ],
      "metadata": {
        "id": "ga-g3-_EhjQW"
      },
      "execution_count": 8,
      "outputs": []
    },
    {
      "cell_type": "code",
      "source": [
        "model.fit(X_train, y_train, epochs=100, batch_size = 32)\n",
        "\n",
        "model.evaluate(X_test, y_test)"
      ],
      "metadata": {
        "id": "Cm1xOpIwhlZE",
        "colab": {
          "base_uri": "https://localhost:8080/"
        },
        "outputId": "3d521c4b-bb22-4142-8547-092c2018e29d"
      },
      "execution_count": 9,
      "outputs": [
        {
          "output_type": "stream",
          "name": "stdout",
          "text": [
            "Epoch 1/100\n",
            "125/125 [==============================] - 54s 348ms/step - loss: 0.6469 - accuracy: 0.6547\n",
            "Epoch 2/100\n",
            "125/125 [==============================] - 42s 339ms/step - loss: 0.5713 - accuracy: 0.7510\n",
            "Epoch 3/100\n",
            "125/125 [==============================] - 43s 348ms/step - loss: 0.5339 - accuracy: 0.7610\n",
            "Epoch 4/100\n",
            "125/125 [==============================] - 43s 340ms/step - loss: 0.5097 - accuracy: 0.7763\n",
            "Epoch 5/100\n",
            "125/125 [==============================] - 43s 340ms/step - loss: 0.4898 - accuracy: 0.7865\n",
            "Epoch 6/100\n",
            "125/125 [==============================] - 44s 351ms/step - loss: 0.4821 - accuracy: 0.7780\n",
            "Epoch 7/100\n",
            "125/125 [==============================] - 43s 343ms/step - loss: 0.4701 - accuracy: 0.7937\n",
            "Epoch 8/100\n",
            "125/125 [==============================] - 43s 340ms/step - loss: 0.4620 - accuracy: 0.7935\n",
            "Epoch 9/100\n",
            "125/125 [==============================] - 43s 341ms/step - loss: 0.4560 - accuracy: 0.7935\n",
            "Epoch 10/100\n",
            "125/125 [==============================] - 43s 345ms/step - loss: 0.4501 - accuracy: 0.8005\n",
            "Epoch 11/100\n",
            "125/125 [==============================] - 43s 343ms/step - loss: 0.4468 - accuracy: 0.8008\n",
            "Epoch 12/100\n",
            "125/125 [==============================] - 44s 350ms/step - loss: 0.4385 - accuracy: 0.8105\n",
            "Epoch 13/100\n",
            "125/125 [==============================] - 43s 341ms/step - loss: 0.4343 - accuracy: 0.8077\n",
            "Epoch 14/100\n",
            "125/125 [==============================] - 43s 346ms/step - loss: 0.4345 - accuracy: 0.8085\n",
            "Epoch 15/100\n",
            "125/125 [==============================] - 42s 337ms/step - loss: 0.4260 - accuracy: 0.8142\n",
            "Epoch 16/100\n",
            "125/125 [==============================] - 42s 339ms/step - loss: 0.4231 - accuracy: 0.8152\n",
            "Epoch 17/100\n",
            "125/125 [==============================] - 43s 341ms/step - loss: 0.4231 - accuracy: 0.8115\n",
            "Epoch 18/100\n",
            "125/125 [==============================] - 42s 340ms/step - loss: 0.4214 - accuracy: 0.8152\n",
            "Epoch 19/100\n",
            "125/125 [==============================] - 42s 335ms/step - loss: 0.4200 - accuracy: 0.8177\n",
            "Epoch 20/100\n",
            "125/125 [==============================] - 42s 340ms/step - loss: 0.4155 - accuracy: 0.8158\n",
            "Epoch 21/100\n",
            "125/125 [==============================] - 43s 343ms/step - loss: 0.4107 - accuracy: 0.8225\n",
            "Epoch 22/100\n",
            "125/125 [==============================] - 42s 339ms/step - loss: 0.4076 - accuracy: 0.8263\n",
            "Epoch 23/100\n",
            "125/125 [==============================] - 43s 342ms/step - loss: 0.4106 - accuracy: 0.8270\n",
            "Epoch 24/100\n",
            "125/125 [==============================] - 43s 342ms/step - loss: 0.4054 - accuracy: 0.8205\n",
            "Epoch 25/100\n",
            "125/125 [==============================] - 42s 338ms/step - loss: 0.4028 - accuracy: 0.8227\n",
            "Epoch 26/100\n",
            "125/125 [==============================] - 44s 348ms/step - loss: 0.4015 - accuracy: 0.8248\n",
            "Epoch 27/100\n",
            "125/125 [==============================] - 43s 345ms/step - loss: 0.4015 - accuracy: 0.8227\n",
            "Epoch 28/100\n",
            "125/125 [==============================] - 43s 346ms/step - loss: 0.3964 - accuracy: 0.8317\n",
            "Epoch 29/100\n",
            "125/125 [==============================] - 43s 347ms/step - loss: 0.4008 - accuracy: 0.8292\n",
            "Epoch 30/100\n",
            "125/125 [==============================] - 44s 353ms/step - loss: 0.3951 - accuracy: 0.8328\n",
            "Epoch 31/100\n",
            "125/125 [==============================] - 43s 340ms/step - loss: 0.3979 - accuracy: 0.8305\n",
            "Epoch 32/100\n",
            "125/125 [==============================] - 43s 345ms/step - loss: 0.3915 - accuracy: 0.8300\n",
            "Epoch 33/100\n",
            "125/125 [==============================] - 43s 343ms/step - loss: 0.3916 - accuracy: 0.8270\n",
            "Epoch 34/100\n",
            "125/125 [==============================] - 42s 338ms/step - loss: 0.3869 - accuracy: 0.8410\n",
            "Epoch 35/100\n",
            "125/125 [==============================] - 45s 360ms/step - loss: 0.3885 - accuracy: 0.8338\n",
            "Epoch 36/100\n",
            "125/125 [==============================] - 44s 351ms/step - loss: 0.3880 - accuracy: 0.8292\n",
            "Epoch 37/100\n",
            "125/125 [==============================] - 45s 359ms/step - loss: 0.3873 - accuracy: 0.8355\n",
            "Epoch 38/100\n",
            "125/125 [==============================] - 43s 340ms/step - loss: 0.3852 - accuracy: 0.8347\n",
            "Epoch 39/100\n",
            "125/125 [==============================] - 43s 341ms/step - loss: 0.3775 - accuracy: 0.8405\n",
            "Epoch 40/100\n",
            "125/125 [==============================] - 42s 339ms/step - loss: 0.3872 - accuracy: 0.8322\n",
            "Epoch 41/100\n",
            "125/125 [==============================] - 43s 341ms/step - loss: 0.3864 - accuracy: 0.8353\n",
            "Epoch 42/100\n",
            "125/125 [==============================] - 43s 345ms/step - loss: 0.3816 - accuracy: 0.8395\n",
            "Epoch 43/100\n",
            "125/125 [==============================] - 42s 340ms/step - loss: 0.3758 - accuracy: 0.8380\n",
            "Epoch 44/100\n",
            "125/125 [==============================] - 44s 350ms/step - loss: 0.3774 - accuracy: 0.8422\n",
            "Epoch 45/100\n",
            "125/125 [==============================] - 43s 343ms/step - loss: 0.3758 - accuracy: 0.8482\n",
            "Epoch 46/100\n",
            "125/125 [==============================] - 42s 339ms/step - loss: 0.3727 - accuracy: 0.8382\n",
            "Epoch 47/100\n",
            "125/125 [==============================] - 43s 348ms/step - loss: 0.3701 - accuracy: 0.8468\n",
            "Epoch 48/100\n",
            "125/125 [==============================] - 42s 339ms/step - loss: 0.3756 - accuracy: 0.8385\n",
            "Epoch 49/100\n",
            "125/125 [==============================] - 42s 339ms/step - loss: 0.3774 - accuracy: 0.8438\n",
            "Epoch 50/100\n",
            "125/125 [==============================] - 43s 340ms/step - loss: 0.3744 - accuracy: 0.8415\n",
            "Epoch 51/100\n",
            "125/125 [==============================] - 42s 336ms/step - loss: 0.3748 - accuracy: 0.8407\n",
            "Epoch 52/100\n",
            "125/125 [==============================] - 43s 344ms/step - loss: 0.3747 - accuracy: 0.8405\n",
            "Epoch 53/100\n",
            "125/125 [==============================] - 42s 340ms/step - loss: 0.3725 - accuracy: 0.8418\n",
            "Epoch 54/100\n",
            "125/125 [==============================] - 42s 339ms/step - loss: 0.3789 - accuracy: 0.8342\n",
            "Epoch 55/100\n",
            "125/125 [==============================] - 42s 337ms/step - loss: 0.3683 - accuracy: 0.8440\n",
            "Epoch 56/100\n",
            "125/125 [==============================] - 43s 341ms/step - loss: 0.3709 - accuracy: 0.8438\n",
            "Epoch 57/100\n",
            "125/125 [==============================] - 43s 341ms/step - loss: 0.3736 - accuracy: 0.8420\n",
            "Epoch 58/100\n",
            "125/125 [==============================] - 42s 337ms/step - loss: 0.3671 - accuracy: 0.8470\n",
            "Epoch 59/100\n",
            "125/125 [==============================] - 43s 343ms/step - loss: 0.3739 - accuracy: 0.8407\n",
            "Epoch 60/100\n",
            "125/125 [==============================] - 43s 340ms/step - loss: 0.3667 - accuracy: 0.8425\n",
            "Epoch 61/100\n",
            "125/125 [==============================] - 42s 340ms/step - loss: 0.3674 - accuracy: 0.8447\n",
            "Epoch 62/100\n",
            "125/125 [==============================] - 42s 337ms/step - loss: 0.3666 - accuracy: 0.8462\n",
            "Epoch 63/100\n",
            "125/125 [==============================] - 42s 339ms/step - loss: 0.3654 - accuracy: 0.8510\n",
            "Epoch 64/100\n",
            "125/125 [==============================] - 43s 341ms/step - loss: 0.3653 - accuracy: 0.8455\n",
            "Epoch 65/100\n",
            "125/125 [==============================] - 43s 343ms/step - loss: 0.3636 - accuracy: 0.8472\n",
            "Epoch 66/100\n",
            "125/125 [==============================] - 43s 342ms/step - loss: 0.3678 - accuracy: 0.8415\n",
            "Epoch 67/100\n",
            "125/125 [==============================] - 43s 340ms/step - loss: 0.3651 - accuracy: 0.8430\n",
            "Epoch 68/100\n",
            "125/125 [==============================] - 43s 340ms/step - loss: 0.3642 - accuracy: 0.8470\n",
            "Epoch 69/100\n",
            "125/125 [==============================] - 42s 338ms/step - loss: 0.3596 - accuracy: 0.8457\n",
            "Epoch 70/100\n",
            "125/125 [==============================] - 42s 338ms/step - loss: 0.3642 - accuracy: 0.8510\n",
            "Epoch 71/100\n",
            "125/125 [==============================] - 43s 341ms/step - loss: 0.3619 - accuracy: 0.8515\n",
            "Epoch 72/100\n",
            "125/125 [==============================] - 43s 341ms/step - loss: 0.3631 - accuracy: 0.8485\n",
            "Epoch 73/100\n",
            "125/125 [==============================] - 43s 341ms/step - loss: 0.3565 - accuracy: 0.8562\n",
            "Epoch 74/100\n",
            "125/125 [==============================] - 43s 340ms/step - loss: 0.3575 - accuracy: 0.8465\n",
            "Epoch 75/100\n",
            "125/125 [==============================] - 43s 341ms/step - loss: 0.3627 - accuracy: 0.8485\n",
            "Epoch 76/100\n",
            "125/125 [==============================] - 42s 337ms/step - loss: 0.3606 - accuracy: 0.8482\n",
            "Epoch 77/100\n",
            "125/125 [==============================] - 43s 342ms/step - loss: 0.3579 - accuracy: 0.8515\n",
            "Epoch 78/100\n",
            "125/125 [==============================] - 43s 341ms/step - loss: 0.3611 - accuracy: 0.8478\n",
            "Epoch 79/100\n",
            "125/125 [==============================] - 42s 339ms/step - loss: 0.3590 - accuracy: 0.8500\n",
            "Epoch 80/100\n",
            "125/125 [==============================] - 43s 342ms/step - loss: 0.3613 - accuracy: 0.8468\n",
            "Epoch 81/100\n",
            "125/125 [==============================] - 43s 340ms/step - loss: 0.3684 - accuracy: 0.8445\n",
            "Epoch 82/100\n",
            "125/125 [==============================] - 43s 341ms/step - loss: 0.3594 - accuracy: 0.8493\n",
            "Epoch 83/100\n",
            "125/125 [==============================] - 42s 339ms/step - loss: 0.3602 - accuracy: 0.8478\n",
            "Epoch 84/100\n",
            "125/125 [==============================] - 42s 337ms/step - loss: 0.3537 - accuracy: 0.8510\n",
            "Epoch 85/100\n",
            "125/125 [==============================] - 43s 342ms/step - loss: 0.3638 - accuracy: 0.8493\n",
            "Epoch 86/100\n",
            "125/125 [==============================] - 43s 347ms/step - loss: 0.3544 - accuracy: 0.8525\n",
            "Epoch 87/100\n",
            "125/125 [==============================] - 42s 336ms/step - loss: 0.3594 - accuracy: 0.8505\n",
            "Epoch 88/100\n",
            "125/125 [==============================] - 43s 341ms/step - loss: 0.3518 - accuracy: 0.8543\n",
            "Epoch 89/100\n",
            "125/125 [==============================] - 43s 341ms/step - loss: 0.3576 - accuracy: 0.8470\n",
            "Epoch 90/100\n",
            "125/125 [==============================] - 42s 338ms/step - loss: 0.3545 - accuracy: 0.8522\n",
            "Epoch 91/100\n",
            "125/125 [==============================] - 42s 338ms/step - loss: 0.3605 - accuracy: 0.8493\n",
            "Epoch 92/100\n",
            "125/125 [==============================] - 43s 341ms/step - loss: 0.3511 - accuracy: 0.8545\n",
            "Epoch 93/100\n",
            "125/125 [==============================] - 43s 347ms/step - loss: 0.3613 - accuracy: 0.8475\n",
            "Epoch 94/100\n",
            "125/125 [==============================] - 42s 337ms/step - loss: 0.3543 - accuracy: 0.8543\n",
            "Epoch 95/100\n",
            "125/125 [==============================] - 42s 339ms/step - loss: 0.3502 - accuracy: 0.8553\n",
            "Epoch 96/100\n",
            "125/125 [==============================] - 43s 340ms/step - loss: 0.3498 - accuracy: 0.8540\n",
            "Epoch 97/100\n",
            "125/125 [==============================] - 42s 340ms/step - loss: 0.3500 - accuracy: 0.8505\n",
            "Epoch 98/100\n",
            "125/125 [==============================] - 42s 337ms/step - loss: 0.3508 - accuracy: 0.8525\n",
            "Epoch 99/100\n",
            "125/125 [==============================] - 43s 342ms/step - loss: 0.3592 - accuracy: 0.8472\n",
            "Epoch 100/100\n",
            "125/125 [==============================] - 43s 344ms/step - loss: 0.3581 - accuracy: 0.8528\n",
            "35/35 [==============================] - 12s 329ms/step - loss: 0.3899 - accuracy: 0.8291\n"
          ]
        },
        {
          "output_type": "execute_result",
          "data": {
            "text/plain": [
              "[0.38988086581230164, 0.8290908932685852]"
            ]
          },
          "metadata": {},
          "execution_count": 9
        }
      ]
    },
    {
      "cell_type": "code",
      "source": [
        "# y_predicted = model.predict(X_test)\n",
        "\n",
        "from sklearn.metrics import classification_report, confusion_matrix, ConfusionMatrixDisplay\n",
        "\n",
        "y_pred_testing = model.predict(X_test)\n",
        "y_pred_testing = y_pred_testing.flatten()\n",
        "y_pred_testing = np.where(y_pred_testing > 0.5, 1, 0)\n",
        "\n",
        "cm = confusion_matrix(y_test, y_pred_testing)\n",
        "disp = ConfusionMatrixDisplay(confusion_matrix=cm)\n",
        "disp.plot()\n",
        "plt.show()\n",
        "\n",
        "print(classification_report(y_test,y_pred_testing))\n",
        "\n",
        "# y_predicted = y_predicted.flatten()"
      ],
      "metadata": {
        "id": "b32baqkihsmS",
        "colab": {
          "base_uri": "https://localhost:8080/",
          "height": 453
        },
        "outputId": "8df0de9e-fed0-4082-833e-e071260fb537"
      },
      "execution_count": 10,
      "outputs": [
        {
          "output_type": "stream",
          "name": "stdout",
          "text": [
            "35/35 [==============================] - 13s 342ms/step\n"
          ]
        },
        {
          "output_type": "display_data",
          "data": {
            "text/plain": [
              "<Figure size 432x288 with 2 Axes>"
            ],
            "image/png": "[encoded data removed]"
          },
          "metadata": {
            "needs_background": "light"
          }
        },
        {
          "output_type": "stream",
          "name": "stdout",
          "text": [
            "              precision    recall  f1-score   support\n",
            "\n",
            "           0       0.80      0.83      0.82       500\n",
            "           1       0.86      0.82      0.84       600\n",
            "\n",
            "    accuracy                           0.83      1100\n",
            "   macro avg       0.83      0.83      0.83      1100\n",
            "weighted avg       0.83      0.83      0.83      1100\n",
            "\n"
          ]
        }
      ]
    },
    {
      "cell_type": "code",
      "source": [
        "from sklearn.metrics import classification_report, confusion_matrix, ConfusionMatrixDisplay\n",
        "\n",
        "y_pred_train = model.predict(X_train)\n",
        "y_pred_train = y_pred_train.flatten()\n",
        "y_pred_train = np.where(y_pred_train > 0.5, 1, 0)\n",
        "\n",
        "cm = confusion_matrix(y_train, y_pred_train)\n",
        "disp = ConfusionMatrixDisplay(confusion_matrix=cm)\n",
        "disp.plot()\n",
        "plt.show()\n",
        "\n",
        "print(classification_report(y_train, y_pred_train))"
      ],
      "metadata": {
        "colab": {
          "base_uri": "https://localhost:8080/",
          "height": 453
        },
        "id": "J1odIwL21iUY",
        "outputId": "0f181d40-9c83-4cd4-8c4f-bb6da04239eb"
      },
      "execution_count": 11,
      "outputs": [
        {
          "output_type": "stream",
          "name": "stdout",
          "text": [
            "125/125 [==============================] - 43s 342ms/step\n"
          ]
        },
        {
          "output_type": "display_data",
          "data": {
            "text/plain": [
              "<Figure size 432x288 with 2 Axes>"
            ],
            "image/png": "[encoded data removed]"
          },
          "metadata": {
            "needs_background": "light"
          }
        },
        {
          "output_type": "stream",
          "name": "stdout",
          "text": [
            "              precision    recall  f1-score   support\n",
            "\n",
            "           0       0.86      0.88      0.87      2000\n",
            "           1       0.88      0.85      0.86      2000\n",
            "\n",
            "    accuracy                           0.87      4000\n",
            "   macro avg       0.87      0.87      0.87      4000\n",
            "weighted avg       0.87      0.87      0.87      4000\n",
            "\n"
          ]
        }
      ]
    }
  ]
}